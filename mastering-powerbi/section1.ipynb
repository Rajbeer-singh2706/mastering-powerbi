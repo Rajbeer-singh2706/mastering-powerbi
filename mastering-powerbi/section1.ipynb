{
 "cells": [
  {
   "cell_type": "code",
   "execution_count": null,
   "metadata": {
    "vscode": {
     "languageId": "plaintext"
    }
   },
   "outputs": [],
   "source": [
    "#microsoft-power-bi-up-running-with-power-bi-desktop/learn/lecture/13055546#overview"
   ]
  }
 ],
 "metadata": {
  "language_info": {
   "name": "python"
  }
 },
 "nbformat": 4,
 "nbformat_minor": 2
}
